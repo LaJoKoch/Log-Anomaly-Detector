{
 "cells": [
  {
   "cell_type": "code",
   "execution_count": null,
   "metadata": {},
   "outputs": [],
   "source": [
    "import pandas as pd\n",
    "import os\n",
    "import matplotlib.pyplot as plt\n",
    "import numpy as np\n",
    "import seaborn as sns\n",
    "import pickle\n",
    "sns.set(rc={'figure.figsize':(11,9)})\n",
    "%matplotlib inline\n",
    "\n",
    "# 0 for GPU, -1 for CPU\n",
    "os.environ['CUDA_VISIBLE_DEVICES'] = '0'\n",
    "from LSTM_forecast import load_csv_data, load_mat_data, preprocess, split_signals, data_labeling\n",
    "from tensorflow.keras.models import load_model\n",
    "from tensorflow.keras.utils import plot_model\n",
    "from sklearn.metrics import (confusion_matrix, ConfusionMatrixDisplay, f1_score, recall_score, precision_score, \n",
    "                             average_precision_score, roc_auc_score, roc_curve, RocCurveDisplay)\n",
    "%load_ext tensorboard\n",
    "%load_ext snakeviz"
   ]
  },
  {
   "cell_type": "markdown",
   "metadata": {},
   "source": [
    "## Data Visualization"
   ]
  },
  {
   "cell_type": "code",
   "execution_count": null,
   "metadata": {},
   "outputs": [],
   "source": [
    "df = load_csv_data('data/trainSet', concat=True)\n",
    "df_list = load_csv_data('data/trainSet', concat=False)\n",
    "df.head()\n",
    "#df_list[0].iloc[:,:1].head(20)\n",
    "#df.dtypes\n",
    "#print(df_list[0].columns.tolist())"
   ]
  },
  {
   "cell_type": "code",
   "execution_count": null,
   "metadata": {},
   "outputs": [],
   "source": [
    "#df = load_mat_data('data/trainSet')\n",
    "df = load_mat_data('data/testSet')\n",
    "df.head()\n",
    "#df.plot()"
   ]
  },
  {
   "cell_type": "code",
   "execution_count": null,
   "metadata": {},
   "outputs": [],
   "source": [
    "# change data type to numeric is needed to plot data frame (only trainSet)\n",
    "for i in range(len(df_list)):\n",
    "    df_list[i]['M [Nm]'] = pd.to_numeric(df_list[i]['M1 in Nm '])\n",
    "    df_list[i]['Temp in [°C]'] = pd.to_numeric(df_list[i]['Temp A  '])\n",
    "    df_list[i]['Temp out [°C]'] = pd.to_numeric(df_list[i]['Temp B  '])\n",
    "    df_list[i]['Current [A]'] = pd.to_numeric(df_list[i]['Strom in A'])\n",
    "    df_list[i]['n [1/min]'] = pd.to_numeric(df_list[i]['n in 1/min'])\n",
    "    df_list[i]['Cycles'] = pd.to_numeric(df_list[i]['Zyklen'])"
   ]
  },
  {
   "cell_type": "markdown",
   "metadata": {},
   "source": [
    "### Sensor Signals"
   ]
  },
  {
   "cell_type": "code",
   "execution_count": null,
   "metadata": {},
   "outputs": [],
   "source": [
    "# trainData (real measurements)\n",
    "cols_plot = ['M [Nm]', 'Temp in [°C]', 'Temp out [°C]', 'Current [A]', 'n [1/min]']\n",
    "axes = df_list[6][cols_plot].plot(linewidth=1, figsize=(15,10), subplots=True)\n",
    "for i, ax in enumerate(axes):\n",
    "    ax.set_ylabel(cols_plot[i])\n",
    "    ax.set_xlabel('Sample No.')\n",
    "#plt.savefig('realMeasurement.pdf', bbox_inches='tight')"
   ]
  },
  {
   "cell_type": "code",
   "execution_count": null,
   "metadata": {},
   "outputs": [],
   "source": [
    "# testData (physical Model)\n",
    "df['Current [A]'] = df['current_A']\n",
    "df['Position [m]'] = df['position_m']\n",
    "df['n [1/sec]'] = df['rotspeed_persec']\n",
    "df['Acceleration [rad/(sec^2)]'] = df['acceleration_radpersec2']\n",
    "#cols_plot = ['current_A', 'position_m', 'rotspeed_persec', 'acceleration_radpersec2']\n",
    "cols_plot = ['Current [A]', 'Position [m]', 'n [1/sec]', 'Acceleration [rad/(sec^2)]']\n",
    "axes = df[cols_plot].plot(linewidth=1, figsize=(15,10), subplots=True)\n",
    "for i, ax in enumerate(axes):\n",
    "    ax.set_ylabel(cols_plot[i])\n",
    "    ax.set_xlabel('Sample No.')\n",
    "    #ax.axvspan(8450, 9750, color='red', alpha=0.2)\n",
    "    #ax.axvspan(5460, 6300, color='red', alpha=0.2)\n",
    "#plt.savefig('CollisionData.pdf', bbox_inches='tight')"
   ]
  },
  {
   "cell_type": "markdown",
   "metadata": {},
   "source": [
    "### Heatmap (Correlation Matrix)"
   ]
  },
  {
   "cell_type": "code",
   "execution_count": null,
   "metadata": {},
   "outputs": [],
   "source": [
    "# to use only the most relevant sensor signals \n",
    "data = pd.concat((df_list), axis=0, ignore_index=True)\n",
    "data = data.drop(columns=['Cycles'])\n",
    "#data = df_list[1]\n",
    "corrmat = data.corr()\n",
    "top_corr_features = corrmat.index\n",
    "plt.figure(figsize=(15,10))\n",
    "heatmap = sns.heatmap(data[top_corr_features].corr(), annot=True, cmap='RdYlGn')\n",
    "#plt.savefig('correlation.pdf', bbox_inches='tight')"
   ]
  },
  {
   "cell_type": "markdown",
   "metadata": {},
   "source": [
    "## LSTM Forecast Model"
   ]
  },
  {
   "cell_type": "code",
   "execution_count": null,
   "metadata": {},
   "outputs": [],
   "source": [
    "model = load_model('models/lstm_current_rotspeed_pos_accelerat')"
   ]
  },
  {
   "cell_type": "markdown",
   "metadata": {},
   "source": [
    "### Model Architectur "
   ]
  },
  {
   "cell_type": "code",
   "execution_count": null,
   "metadata": {},
   "outputs": [],
   "source": [
    "print(model.summary())"
   ]
  },
  {
   "cell_type": "code",
   "execution_count": null,
   "metadata": {
    "scrolled": false
   },
   "outputs": [],
   "source": [
    "plot_model(\n",
    "    model,\n",
    "    to_file='modelStruct.pdf',\n",
    "    show_shapes=True,\n",
    "    show_dtype=True,\n",
    "    show_layer_names=False,\n",
    "    rankdir='LR', #TB, LR\n",
    "    expand_nested=False,\n",
    "    dpi=96\n",
    ")"
   ]
  },
  {
   "cell_type": "markdown",
   "metadata": {},
   "source": [
    "### Training History"
   ]
  },
  {
   "cell_type": "code",
   "execution_count": null,
   "metadata": {},
   "outputs": [],
   "source": [
    "with open('models/history_lstm_current_rotspeed_pos_accelerat.pkl', 'rb') as f:\n",
    "        history = pickle.load(f)\n",
    "print(history.keys())"
   ]
  },
  {
   "cell_type": "code",
   "execution_count": null,
   "metadata": {
    "scrolled": false
   },
   "outputs": [],
   "source": [
    "from scipy.signal import savgol_filter\n",
    "fig, (ax1, ax2) = plt.subplots(1, 2, figsize=(15,5), sharex=False, sharey=False)\n",
    "\n",
    "window = 3\n",
    "order = 1\n",
    "loss_smoothed = savgol_filter(history['loss'], window, order)\n",
    "val_loss_smoothed = savgol_filter(history['val_loss'], window, order)\n",
    "\n",
    "ax1.plot(loss_smoothed, color=sns.color_palette()[1])\n",
    "ax1.plot(val_loss_smoothed, color=sns.color_palette()[2])\n",
    "ax1.legend(['training', 'validation'])\n",
    "ax1.plot(history['loss'], color=sns.color_palette()[1], alpha=0.3)\n",
    "ax1.plot(history['val_loss'], color=sns.color_palette()[2], alpha=0.3)\n",
    "#ax1.set_title('model loss')\n",
    "ax1.set_ylabel('Loss (MAE)')\n",
    "ax1.set_xlabel('Epoch')\n",
    "\n",
    "ax2.plot(history['lr'])\n",
    "#ax2.set_title('model learning rate')\n",
    "ax2.set_ylabel('Learning Rate')\n",
    "ax2.set_xlabel('Epoch')\n",
    "#plt.savefig('training.pdf', bbox_inches='tight')\n",
    "plt.show()"
   ]
  },
  {
   "cell_type": "code",
   "execution_count": null,
   "metadata": {},
   "outputs": [],
   "source": [
    "#%%cmd\n",
    "#rm -rf ./logs/\n",
    "!rm -rf ./logs/"
   ]
  },
  {
   "cell_type": "code",
   "execution_count": null,
   "metadata": {
    "scrolled": false
   },
   "outputs": [],
   "source": [
    "%tensorboard --logdir logs/fit/ --port=8008"
   ]
  },
  {
   "cell_type": "markdown",
   "metadata": {},
   "source": [
    "### Prediction (Forecast and Detection)"
   ]
  },
  {
   "cell_type": "code",
   "execution_count": null,
   "metadata": {},
   "outputs": [],
   "source": [
    "SENSITIV = 1.25 # sensitivity parameter to calibrate the prediction threshold\n",
    "SEQ_LEN = 100 # every input instance is a sequence of length n"
   ]
  },
  {
   "cell_type": "markdown",
   "metadata": {},
   "source": [
    "#### Forecasting Traindata"
   ]
  },
  {
   "cell_type": "code",
   "execution_count": null,
   "metadata": {
    "scrolled": true
   },
   "outputs": [],
   "source": [
    "#inputs, outputs, _ = preprocess('data/trainSet', record=0, file='csv')\n",
    "inputs, outputs, num_features , original_in, original_out, scaler = preprocess('data/trainSet', record=None, file='mat')\n",
    "\n",
    "preds = model.predict(inputs, verbose=1, batch_size=50)\n",
    "mse_perSignal = ((outputs - preds) ** 2)/num_features\n",
    "mae = pd.DataFrame(outputs - preds).abs().sum(axis=1).divide(num_features)\n",
    "quantile = mae.quantile(0.99)\n",
    "\n",
    "with open('models/train_Settings.pkl', 'wb') as f:\n",
    "    pickle.dump([num_features, scaler, quantile], f)"
   ]
  },
  {
   "cell_type": "markdown",
   "metadata": {},
   "source": [
    "#### Forecasting Testdata "
   ]
  },
  {
   "cell_type": "code",
   "execution_count": null,
   "metadata": {},
   "outputs": [],
   "source": [
    "#%%snakeviz\n",
    "# use standardscaler and quantile (threshold) from trainset \n",
    "with open('models/train_Settings.pkl', 'rb') as f:\n",
    "    num_features, scaler, quantile = pickle.load(f)\n",
    "data = load_mat_data('data/testSet')\n",
    "data = data.drop(columns=['position_rad', 'temperature_DegCel'])\n",
    "inputs, outputs = split_signals(scaler.transform(data), SEQ_LEN)\n",
    "\n",
    "preds = model.predict(inputs, verbose=1, batch_size=1)\n",
    "mse_perSignal = ((outputs - preds) ** 2)/num_features\n",
    "mae = pd.DataFrame(outputs - preds).abs().sum(axis=1).divide(num_features)\n",
    "#quantile = 0.15109934516144174"
   ]
  },
  {
   "cell_type": "code",
   "execution_count": null,
   "metadata": {},
   "outputs": [],
   "source": [
    "print(inputs.shape)\n",
    "print(preds.shape)\n",
    "print(outputs.shape)\n",
    "print(mse_perSignal.shape)\n",
    "print(mae.shape)\n",
    "print(quantile)"
   ]
  },
  {
   "cell_type": "code",
   "execution_count": null,
   "metadata": {},
   "outputs": [],
   "source": [
    "fig, axs = plt.subplots(4, figsize=(15,10), sharex=True, sharey=False)\n",
    "#plot_names = ['Temp in', 'Strom in A', 'n in 1/min', 'MSE'] # csv\n",
    "plot_names = ['Acceleration [rad/(sec^2)]', 'Current [A]', 'Position [m]', 'n [1/sec]'] # mat\n",
    "\n",
    "for k, ax in enumerate(axs):\n",
    "    ax.set_ylabel(plot_names[k])\n",
    "#    if k == 4:\n",
    "#        ax.plot(mse_perSignal[:,1], c=sns.color_palette()[3], label='Current')\n",
    "#        continue\n",
    "    ax.plot(pd.Series(np.ravel(outputs[:len(outputs),k])), c=sns.color_palette()[0], label='Actual')\n",
    "    ax.plot(pd.Series(np.ravel(preds[:len(preds),k])), c=sns.color_palette()[1], label='Forecast')\n",
    "    ax.legend(loc='lower left')\n",
    "    #ax.axvspan(5460, 6300, color='red', alpha=0.2)\n",
    "    ax.axvspan(8350, 9650, color='red', alpha=0.2)\n",
    "ax.set_xlabel('Sample No.')\n",
    "#plt.savefig('forecastTestDC.pdf', bbox_inches='tight')\n",
    "plt.show()"
   ]
  },
  {
   "cell_type": "markdown",
   "metadata": {},
   "source": [
    "#### Detection"
   ]
  },
  {
   "cell_type": "code",
   "execution_count": null,
   "metadata": {},
   "outputs": [],
   "source": [
    "ax = mae.plot(figsize=(15,5))\n",
    "#ax.set_title('Summed Error for all Sensor Signals')\n",
    "ax.set_xlabel('Sample No.')\n",
    "ax.set_ylabel('MAE')\n",
    "ax.hlines(y=quantile, xmin=0, xmax=len(preds), colors='g', linestyles='--', lw=2)\n",
    "ax.hlines(y=SENSITIV*quantile, xmin=0, xmax=len(preds), colors='r', linestyles='--', lw=2)\n",
    "ax.axvspan(5460, 6300, color='red', alpha=0.2)\n",
    "#ax.axvspan(8350, 9650, color='red', alpha=0.2)\n",
    "#plt.savefig('detectionTestDC.pdf', bbox_inches='tight')\n",
    "plt.show()"
   ]
  },
  {
   "cell_type": "markdown",
   "metadata": {},
   "source": [
    "#### Metrics"
   ]
  },
  {
   "cell_type": "code",
   "execution_count": null,
   "metadata": {},
   "outputs": [],
   "source": [
    "#df_evaluate = data_labeling(path='data/testSet', sum_error=mae, quantile=quantile, startIdx=5460)\n",
    "df_evaluate = data_labeling(path='data/testSet', sum_error=mae, quantile=quantile, startIdx=8350)\n",
    "gt = df_evaluate['ground truth']\n",
    "preds = df_evaluate['prediction']\n",
    "scores = df_evaluate['score']\n",
    "#df_evaluate.head(-1)"
   ]
  },
  {
   "cell_type": "code",
   "execution_count": null,
   "metadata": {},
   "outputs": [],
   "source": [
    "print('Precision Score:          %.4f' % precision_score(gt, preds))\n",
    "print('Recall Score:             %.4f' % recall_score(gt, preds))\n",
    "print('F1 Score:                 %.4f' % f1_score(gt, preds))\n",
    "print('Average Precision Score:  %.4f' % average_precision_score(gt, scores))\n",
    "print('ROC AUC Score:            %.4f' % roc_auc_score(gt, scores))"
   ]
  },
  {
   "cell_type": "code",
   "execution_count": null,
   "metadata": {},
   "outputs": [],
   "source": [
    "sns.reset_orig()\n",
    "tn, fp, fn, tp = confusion_matrix(gt, preds).ravel()\n",
    "tpr = tp / (tp + fn)\n",
    "fnr = fn / (fn + tp)\n",
    "fpr = fp / (fp + tn)\n",
    "tnr = tn / (tn + fp)\n",
    "print('True Positive Rate:       %.4f' % tpr)\n",
    "print('False Negative Rate:      %.4f' % fnr)\n",
    "print('False Positive Rate:      %.4f' % fpr)\n",
    "print('True Negative Rate:       %.4f' % tnr)\n",
    "cm = confusion_matrix(gt, preds)\n",
    "ConfusionMatrixDisplay(cm).plot()\n",
    "#plt.savefig('confMatrixTestCollision.pdf', bbox_inches='tight')"
   ]
  },
  {
   "cell_type": "code",
   "execution_count": null,
   "metadata": {},
   "outputs": [],
   "source": [
    "sns.set(rc={'figure.figsize':(11,9)})\n",
    "fpr, tpr, _ = roc_curve(gt, scores)\n",
    "RocCurveDisplay(fpr=fpr, tpr=tpr,).plot()\n",
    "#plt.savefig('ROCTestDC.pdf', bbox_inches='tight')"
   ]
  }
 ],
 "metadata": {
  "kernelspec": {
   "display_name": "logAD",
   "language": "python",
   "name": "logad"
  },
  "language_info": {
   "codemirror_mode": {
    "name": "ipython",
    "version": 3
   },
   "file_extension": ".py",
   "mimetype": "text/x-python",
   "name": "python",
   "nbconvert_exporter": "python",
   "pygments_lexer": "ipython3",
   "version": "3.8.5"
  }
 },
 "nbformat": 4,
 "nbformat_minor": 2
}
